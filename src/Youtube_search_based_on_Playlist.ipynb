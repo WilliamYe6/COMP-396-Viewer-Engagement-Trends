{
  "nbformat": 4,
  "nbformat_minor": 0,
  "metadata": {
    "colab": {
      "provenance": [],
      "toc_visible": true,
      "authorship_tag": "ABX9TyPyrR77glnnKp7h3Dpam7Wz"
    },
    "kernelspec": {
      "name": "python3",
      "display_name": "Python 3"
    },
    "language_info": {
      "name": "python"
    }
  },
  "cells": [
    {
      "cell_type": "code",
      "execution_count": null,
      "metadata": {
        "id": "uUtmCuMWDaY7"
      },
      "outputs": [],
      "source": [
        "import re\n",
        "import requests\n",
        "import googleapiclient\n",
        "from googleapiclient.discovery import build\n",
        "import pandas as pd\n",
        "import matplotlib.pyplot as plt\n",
        "import seaborn as sns\n",
        "from datetime import datetime\n",
        "from rsa.pkcs1 import key\n",
        "\n",
        "API_KEY = ''\n",
        "URL = 'https://www.googleapis.com/youtube/v3/search'"
      ]
    },
    {
      "cell_type": "markdown",
      "source": [
        "## Check daily quota"
      ],
      "metadata": {
        "id": "BLp4KKHUQPqg"
      }
    },
    {
      "cell_type": "code",
      "source": [
        "# check whether we've run out of daily quota amount from the API\n",
        "def check_daily_limit():\n",
        "  params = {\n",
        "      'part': 'snippet',\n",
        "      'q': ['Israel Palestine Conflict','Israel','Gaza','Palestine'],\n",
        "      'type': 'video',\n",
        "      'key': API_KEY,\n",
        "      'maxResults': 1,\n",
        "      'order':'relevance',\n",
        "  }\n",
        "  response = requests.get(URL, params=params)\n",
        "  if response.status_code == 200:\n",
        "      print(\"Quota not exceeded\")\n",
        "      return response.json()\n",
        "  else:\n",
        "      print(f\"Error: {response.status_code}\")\n",
        "      print(response.text)\n",
        "response1=check_daily_limit()"
      ],
      "metadata": {
        "id": "7DUMvDFXbCEg"
      },
      "execution_count": null,
      "outputs": []
    },
    {
      "cell_type": "markdown",
      "source": [
        "# Get Playlist videos"
      ],
      "metadata": {
        "id": "AOvoaU-MjsWw"
      }
    },
    {
      "cell_type": "code",
      "source": [
        "# duration_conversion to seconds by William\n",
        "def duration_conversion(duration):\n",
        "    import re\n",
        "    match = re.match('PT(\\d+H)?(\\d+M)?(\\d+S)?', duration)\n",
        "\n",
        "    if match!=None:\n",
        "      hours = int(match.group(1)[:-1]) if match.group(1) else 0\n",
        "      minutes = int(match.group(2)[:-1]) if match.group(2) else 0\n",
        "      seconds = int(match.group(3)[:-1]) if match.group(3) else 0\n",
        "      return hours * 3600 + minutes * 60 + seconds\n",
        "    else:\n",
        "      print(\"duration pattern not matched\")\n",
        "      return None"
      ],
      "metadata": {
        "id": "uJUpkQ-YWEB0"
      },
      "execution_count": null,
      "outputs": []
    },
    {
      "cell_type": "code",
      "source": [
        "def fetch_playlist(playlist_id):\n",
        "  youtube = googleapiclient.discovery.build(\"youtube\", \"v3\", developerKey=API_KEY)\n",
        "  next_page_token = None\n",
        "  videos = []\n",
        "\n",
        "  while True:\n",
        "      request = youtube.playlistItems().list(\n",
        "          part=\"snippet\",\n",
        "          playlistId=playlist_id,\n",
        "          maxResults=50,\n",
        "          pageToken=next_page_token\n",
        "      )\n",
        "      response = request.execute()\n",
        "      videos.extend(response.get(\"items\", []))\n",
        "\n",
        "      next_page_token = response.get(\"nextPageToken\")\n",
        "      if not next_page_token:\n",
        "          break\n",
        "\n",
        "  return videos"
      ],
      "metadata": {
        "id": "m0QM3RlxjvT4"
      },
      "execution_count": null,
      "outputs": []
    },
    {
      "cell_type": "code",
      "source": [
        "def build_csv(playlist):\n",
        "  data=[]\n",
        "  for k,v in playlist.items():\n",
        "    videos=fetch_playlist(v)\n",
        "    for video in videos:\n",
        "      id = video[\"snippet\"][\"resourceId\"][\"videoId\"]\n",
        "      title = video[\"snippet\"][\"title\"]\n",
        "      channel = k\n",
        "\n",
        "      call = build(\"youtube\", \"v3\", developerKey=API_KEY)\n",
        "      request = call.videos().list(\n",
        "          part=\"contentDetails,statistics\",\n",
        "          id=id\n",
        "      )\n",
        "      response = request.execute()\n",
        "\n",
        "      if \"items\" in response and len(response[\"items\"]) > 0:\n",
        "        video_details = response[\"items\"][0]\n",
        "        duration = video_details.get(\"contentDetails\", {}).get(\"duration\", \"\")\n",
        "        duration = duration_conversion(duration)\n",
        "      else:\n",
        "        continue\n",
        "\n",
        "      if (duration==None):\n",
        "        continue\n",
        "\n",
        "      data.append([channel, title, id, duration, \"Video\" if duration > 60 else \"Short\"])\n",
        "      if len(data)%10 ==0 and len(data)!=0:\n",
        "        print(f\"Data retrieved: {len(data)} rows\")\n",
        "\n",
        "  df = pd.DataFrame(data, columns=['Channel', 'Title', 'Video ID','Duration','Type'])\n",
        "  df=df.drop_duplicates(subset=[\"Video ID\"], keep=False)\n",
        "  df.to_csv(f'Israel_Palestine_Conflict_videos.csv', index=False, encoding='utf-8')\n",
        "  return df"
      ],
      "metadata": {
        "id": "I2s-nrrEQoCC"
      },
      "execution_count": null,
      "outputs": []
    },
    {
      "cell_type": "markdown",
      "source": [
        "## Usage Example"
      ],
      "metadata": {
        "id": "szPXPlspbXq4"
      }
    },
    {
      "cell_type": "code",
      "source": [
        "# Define playlist ID in dictionary\n",
        "playlist = {\"NBC News\":\"PL0tDb4jw6kPwbfkRqaiNFdr0d_rl9vAXP\",\"CNN\":\"PL6XRrncXkMaU55GiCvv416NR2qBD_xbmf\",\n",
        "            \"Fox News\":\"PLlTLHnxSVuIyMU4Q4I8NsLAVK1iNANGW9\",\"CBC News\":\"PLeyJPHbRnGaY2w91OBmfTL-d-a6MrO0gT\"}\n",
        "df = build_csv(playlist)"
      ],
      "metadata": {
        "id": "Iw7RKBsVQqRl"
      },
      "execution_count": null,
      "outputs": []
    },
    {
      "cell_type": "markdown",
      "source": [
        "## Define video category according to duration range"
      ],
      "metadata": {
        "id": "1jxhXcqDaueK"
      }
    },
    {
      "cell_type": "code",
      "source": [
        "def plot_df_videoDuration(df):\n",
        "  bins =[int(b) for b in list(range(0, 481, 60))]+[42900]\n",
        "  labels = [str(x) for x in range(1, 9)]+['8+']\n",
        "\n",
        "  df['DurationRange'] = pd.cut(df['Duration'], bins=bins, labels=labels, right=False)\n",
        "\n",
        "  colors = sns.color_palette('viridis', n_colors=len(labels))\n",
        "  plt.figure(figsize=(8, 4))\n",
        "\n",
        "  ax=sns.countplot(x='DurationRange', data=df, order=labels, palette=colors)\n",
        "  for label, count in zip(ax.patches, df.groupby('DurationRange').size()):\n",
        "      height = label.get_height()\n",
        "      ax.text(\n",
        "          label.get_x() + label.get_width() / 2,\n",
        "          height + 3,\n",
        "          f'{count}',\n",
        "          ha='center',\n",
        "          va='bottom'\n",
        "      )\n",
        "  mean_counts = df.groupby('DurationRange').size().mean()\n",
        "  ax.axhline(mean_counts, color='red', linestyle='dashed', linewidth=2, label=f'Mean number of Video Count: {mean_counts:.2f}')\n",
        "  plt.xlabel('Duration Range (minutes)')\n",
        "  plt.ylabel('Number of Videos')\n",
        "  plt.title('Distribution of Videos According to their lengths')\n",
        "  ax.yaxis.grid(True)\n",
        "  plt.legend()\n",
        "  plt.show()\n",
        "\n",
        "  df.drop('DurationRange', axis=1, inplace=True)\n",
        "\n",
        "plot_df_videoDuration(df)"
      ],
      "metadata": {
        "colab": {
          "base_uri": "https://localhost:8080/",
          "height": 410
        },
        "id": "txso4jreTwYY",
        "outputId": "e927a370-c548-4a19-e795-3487c942d118"
      },
      "execution_count": null,
      "outputs": [
        {
          "output_type": "display_data",
          "data": {
            "text/plain": [
              "<Figure size 800x400 with 1 Axes>"
            ],
            "image/png": "[encoded data removed]"
          },
          "metadata": {}
        }
      ]
    },
    {
      "cell_type": "code",
      "source": [
        "max_count=df[\"Duration\"].max()\n",
        "min_count=df[\"Duration\"].min()\n",
        "print(f\"Maximum duration in seconds: {max_count}\\nMinimum duration in seconds: {min_count}\")\n",
        "x=len(df[df['Duration'] < 5 * 60])\n",
        "y=len(df[df['Duration'] >= 5 * 60])\n",
        "print(f\"Videos shorter than 5 min: {x}\\nVideos longer than 5 min: {y}\")"
      ],
      "metadata": {
        "colab": {
          "base_uri": "https://localhost:8080/"
        },
        "id": "VB6rlhLBRTGM",
        "outputId": "98f27e23-5964-40c6-fd2a-d1936e96324e"
      },
      "execution_count": null,
      "outputs": [
        {
          "output_type": "stream",
          "name": "stdout",
          "text": [
            "Maximum duration in seconds: 42900\n",
            "Minimum duration in seconds: 17\n",
            "Videos shorter than 5 min: 770\n",
            "Videos longer than 5 min: 721\n"
          ]
        }
      ]
    },
    {
      "cell_type": "code",
      "source": [
        "Type_definition=5 #in minutes\n",
        "\"\"\"\n",
        "creates a new column 'Type' based on the 'Duration' values.\n",
        "If the duration is >= 5 minutes, the 'Type' is set to 'Video';\n",
        "otherwise, it's set to 'Short'.\n",
        "\"\"\"\n",
        "\n",
        "df['Type'] = df['Duration'].apply(lambda duration: 'Video' if duration >= Type_definition * 60 else 'Short')\n",
        "print(df['Type'].value_counts())"
      ],
      "metadata": {
        "colab": {
          "base_uri": "https://localhost:8080/"
        },
        "id": "rYb5ENJdcTnx",
        "outputId": "1eb4fc4d-8e6e-4618-a6b2-b240dae66bb0"
      },
      "execution_count": null,
      "outputs": [
        {
          "output_type": "stream",
          "name": "stdout",
          "text": [
            "Short    770\n",
            "Video    721\n",
            "Name: Type, dtype: int64\n"
          ]
        }
      ]
    }
  ]
}